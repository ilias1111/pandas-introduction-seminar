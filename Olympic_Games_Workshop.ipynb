{
  "nbformat": 4,
  "nbformat_minor": 0,
  "metadata": {
    "colab": {
      "name": "Olympic Games Workshop",
      "provenance": [],
      "authorship_tag": "ABX9TyPqxXGMjDdw5kJ82bbBDdsP",
      "include_colab_link": true
    },
    "kernelspec": {
      "name": "python3",
      "display_name": "Python 3"
    }
  },
  "cells": [
    {
      "cell_type": "markdown",
      "metadata": {
        "id": "view-in-github",
        "colab_type": "text"
      },
      "source": [
        "<a href=\"https://colab.research.google.com/github/ilias1111/pandas-introduction-seminar/blob/main/Olympic_Games_Workshop.ipynb\" target=\"_parent\"><img src=\"https://colab.research.google.com/assets/colab-badge.svg\" alt=\"Open In Colab\"/></a>"
      ]
    },
    {
      "cell_type": "code",
      "metadata": {
        "id": "u5-GvjqruPWC"
      },
      "source": [
        "%load_ext google.colab.data_table"
      ],
      "execution_count": null,
      "outputs": []
    },
    {
      "cell_type": "code",
      "metadata": {
        "id": "XyhauznzuUq7"
      },
      "source": [
        "import pandas as pd"
      ],
      "execution_count": null,
      "outputs": []
    },
    {
      "cell_type": "markdown",
      "metadata": {
        "id": "tSDtt6t733Gt"
      },
      "source": [
        "The dataset we will use is based on a [kaggle dataset](https://www.kaggle.com/heesoo37/120-years-of-olympic-history-athletes-and-results?select=athlete_events.csv#)\r\n"
      ]
    },
    {
      "cell_type": "code",
      "metadata": {
        "id": "GTmO5OX0uYnz"
      },
      "source": [
        "df = pd.read_csv(\"https://drive.google.com/uc?export=download&id=1slaLgLlqsKFptK_5daEylUdS0keR9D1a\")"
      ],
      "execution_count": null,
      "outputs": []
    },
    {
      "cell_type": "markdown",
      "metadata": {
        "id": "qNlTfB9IEHFe"
      },
      "source": [
        "# Playground\r\n"
      ]
    },
    {
      "cell_type": "code",
      "metadata": {
        "id": "QBh5XM1d4Qj_"
      },
      "source": [
        ""
      ],
      "execution_count": null,
      "outputs": []
    },
    {
      "cell_type": "code",
      "metadata": {
        "id": "NM6lfSfCELDj"
      },
      "source": [
        ""
      ],
      "execution_count": null,
      "outputs": []
    },
    {
      "cell_type": "code",
      "metadata": {
        "id": "UwpN3gUHEKfG"
      },
      "source": [
        ""
      ],
      "execution_count": null,
      "outputs": []
    },
    {
      "cell_type": "markdown",
      "metadata": {
        "id": "jiW8XZVfvdtq"
      },
      "source": [
        "# ***Questions***"
      ]
    },
    {
      "cell_type": "markdown",
      "metadata": {
        "id": "NSs1ouxqvAcg"
      },
      "source": [
        "**Q1:** Who is the youngest and the oldest athlete ever?"
      ]
    },
    {
      "cell_type": "code",
      "metadata": {
        "id": "8vWZs1TUvvfR"
      },
      "source": [
        ""
      ],
      "execution_count": null,
      "outputs": []
    },
    {
      "cell_type": "code",
      "metadata": {
        "id": "vsmbsanE44FX"
      },
      "source": [
        ""
      ],
      "execution_count": null,
      "outputs": []
    },
    {
      "cell_type": "markdown",
      "metadata": {
        "id": "kdX5txhYvLbC"
      },
      "source": [
        "**Q2:** Who is the youngest and the oldest athlete ever that has a gold metal?"
      ]
    },
    {
      "cell_type": "code",
      "metadata": {
        "id": "2iq8ywN8vwBx"
      },
      "source": [
        ""
      ],
      "execution_count": null,
      "outputs": []
    },
    {
      "cell_type": "code",
      "metadata": {
        "id": "0z8U6z2W44tV"
      },
      "source": [
        ""
      ],
      "execution_count": null,
      "outputs": []
    },
    {
      "cell_type": "markdown",
      "metadata": {
        "id": "NE3ygVHavL5p"
      },
      "source": [
        "**Q3:** Who is the youngest and the oldest athlete ever that has a medal?"
      ]
    },
    {
      "cell_type": "code",
      "metadata": {
        "id": "Sx-JYMUxvwhb"
      },
      "source": [
        ""
      ],
      "execution_count": null,
      "outputs": []
    },
    {
      "cell_type": "code",
      "metadata": {
        "id": "g2rQ-sZp45Z9"
      },
      "source": [
        ""
      ],
      "execution_count": null,
      "outputs": []
    },
    {
      "cell_type": "markdown",
      "metadata": {
        "id": "QtlA48rdvVkS"
      },
      "source": [
        "**Q4:** Display all the judo athletes that have a gold medal."
      ]
    },
    {
      "cell_type": "code",
      "metadata": {
        "id": "bdt4Oxl3vw99"
      },
      "source": [
        ""
      ],
      "execution_count": null,
      "outputs": []
    },
    {
      "cell_type": "markdown",
      "metadata": {
        "id": "Ab5tGl_GvYCW"
      },
      "source": [
        "**Q5:** Display all the athletes that compete with the GRE in 2004"
      ]
    },
    {
      "cell_type": "code",
      "metadata": {
        "id": "9xYn7QScvxnn"
      },
      "source": [
        ""
      ],
      "execution_count": null,
      "outputs": []
    },
    {
      "cell_type": "markdown",
      "metadata": {
        "id": "SE53uHDHvXyw"
      },
      "source": [
        "**Q6:** Display all the gold medals GRE has ever won"
      ]
    },
    {
      "cell_type": "code",
      "metadata": {
        "id": "EKBeYCgbvyGC"
      },
      "source": [
        ""
      ],
      "execution_count": null,
      "outputs": []
    },
    {
      "cell_type": "markdown",
      "metadata": {
        "id": "H_vDdmCRvXXE"
      },
      "source": [
        "**Q7:** Display all the athletes named \"Alexandros\""
      ]
    },
    {
      "cell_type": "code",
      "metadata": {
        "id": "bDqhlgCbvytm"
      },
      "source": [
        ""
      ],
      "execution_count": null,
      "outputs": []
    },
    {
      "cell_type": "markdown",
      "metadata": {
        "id": "4GR2kSW6DzLq"
      },
      "source": [
        "**Q8:** What is the male/female ratio?"
      ]
    },
    {
      "cell_type": "code",
      "metadata": {
        "id": "ERuTK2vxDzLs"
      },
      "source": [
        ""
      ],
      "execution_count": null,
      "outputs": []
    },
    {
      "cell_type": "markdown",
      "metadata": {
        "id": "WsL_0V5qDzLs"
      },
      "source": [
        "**Q9:** Display the top 10 athletes in terms of medals"
      ]
    },
    {
      "cell_type": "code",
      "metadata": {
        "id": "wHY5vgSdDzLt"
      },
      "source": [
        ""
      ],
      "execution_count": null,
      "outputs": []
    },
    {
      "cell_type": "markdown",
      "metadata": {
        "id": "8Nb4OSdnDzLt"
      },
      "source": [
        "**Q10:** Display the top 10 NOC in terms of gold medals"
      ]
    },
    {
      "cell_type": "code",
      "metadata": {
        "id": "QJ8-WcbeDzLu"
      },
      "source": [
        ""
      ],
      "execution_count": null,
      "outputs": []
    },
    {
      "cell_type": "markdown",
      "metadata": {
        "id": "wE1Tagn6DzLu"
      },
      "source": [
        "**Q11:** Display the youngest and the oldest competitor in each sport"
      ]
    },
    {
      "cell_type": "code",
      "metadata": {
        "id": "6MwLrqb6DzLv"
      },
      "source": [
        ""
      ],
      "execution_count": null,
      "outputs": []
    }
  ]
}